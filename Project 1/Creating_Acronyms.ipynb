{
 "cells": [
  {
   "cell_type": "markdown",
   "metadata": {},
   "source": [
    "#### Create Acronyms using Python\n",
    "\n",
    "In this project we will write a program to create acronyms.The acronyms are the short form of a word e.g. AI for Artificial Intelligence  "
   ]
  },
  {
   "cell_type": "code",
   "execution_count": 1,
   "metadata": {},
   "outputs": [
    {
     "name": "stdout",
     "output_type": "stream",
     "text": [
      "Your sentence is: Artificial Intelligence\n",
      "AI"
     ]
    }
   ],
   "source": [
    "sentence = str(input(\"Your sentence is: \"))\n",
    "acronym = sentence.split()\n",
    "for word in acronym:\n",
    "    print(word[0].upper(), end =\"\")\n",
    "    "
   ]
  },
  {
   "cell_type": "code",
   "execution_count": null,
   "metadata": {},
   "outputs": [],
   "source": []
  }
 ],
 "metadata": {
  "kernelspec": {
   "display_name": "Python 3",
   "language": "python",
   "name": "python3"
  },
  "language_info": {
   "codemirror_mode": {
    "name": "ipython",
    "version": 3
   },
   "file_extension": ".py",
   "mimetype": "text/x-python",
   "name": "python",
   "nbconvert_exporter": "python",
   "pygments_lexer": "ipython3",
   "version": "3.8.3"
  }
 },
 "nbformat": 4,
 "nbformat_minor": 4
}
